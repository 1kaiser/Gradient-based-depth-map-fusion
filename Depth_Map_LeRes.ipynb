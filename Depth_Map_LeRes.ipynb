{
  "nbformat": 4,
  "nbformat_minor": 0,
  "metadata": {
    "colab": {
      "provenance": [],
      "authorship_tag": "ABX9TyNa3+U9z8dBB1q7P8V7tdIz",
      "include_colab_link": true
    },
    "kernelspec": {
      "name": "python3",
      "display_name": "Python 3"
    },
    "language_info": {
      "name": "python"
    },
    "accelerator": "GPU",
    "gpuClass": "standard"
  },
  "cells": [
    {
      "cell_type": "markdown",
      "metadata": {
        "id": "view-in-github",
        "colab_type": "text"
      },
      "source": [
        "<a href=\"https://colab.research.google.com/github/1kaiser/Gradient-based-depth-map-fusion/blob/main/Depth_Map_LeRes.ipynb\" target=\"_parent\"><img src=\"https://colab.research.google.com/assets/colab-badge.svg\" alt=\"Open In Colab\"/></a>"
      ]
    },
    {
      "cell_type": "markdown",
      "source": [
        "Installs a conda environment and restarts the session"
      ],
      "metadata": {
        "id": "SRZGO6GgLggc"
      }
    },
    {
      "cell_type": "code",
      "execution_count": null,
      "metadata": {
        "id": "Xbjnmy9Wd2mq"
      },
      "outputs": [],
      "source": [
        "!python -m pip install -q condacolab\n",
        "import condacolab\n",
        "condacolab.install()\n",
        "exit() ## for restarting the session"
      ]
    },
    {
      "cell_type": "markdown",
      "source": [
        "clones the github repository >>> creates the conda environment >>> updates the environment with necessary libraryriies"
      ],
      "metadata": {
        "id": "2S4U7jiWL_xW"
      }
    },
    {
      "cell_type": "code",
      "source": [
        "%cd /content/\n",
        "!git clone https://github.com/1kaiser/Gradient-based-depth-map-fusion.git\n",
        "%cd Gradient-based-depth-map-fusion\n",
        "!conda create --name GBDF\n",
        "!conda activate GBDF\n",
        "!conda env update -f GBDF.yaml\n",
        "!python -m pip install opencv-python==4.6.0.66 torch==1.9.1+cu111 torchvision==0.10.1+cu111 torchaudio==0.9.1 -f https://download.pytorch.org/whl/torch_stable.html\n",
        "!python -m pip install tqdm tensorboard setuptools==59.5.0 matplotlib scipy pip install timm==0.4.12 mmcv==0.6.2\n"
      ],
      "metadata": {
        "id": "emv7bnIpejU0"
      },
      "execution_count": null,
      "outputs": []
    },
    {
      "cell_type": "markdown",
      "source": [
        "Download Fusion Model checkpoints <<<"
      ],
      "metadata": {
        "id": "VFJ9MBGgMYb-"
      }
    },
    {
      "cell_type": "code",
      "source": [
        "model_dir = '/content/Gradient-based-depth-map-fusion/models'\n",
        "import os\n",
        "os.makedirs(model_dir, exist_ok=True)\n",
        "!wget https://github.com/1kaiser/Gradient-based-depth-map-fusion/releases/download/v0.1/model_dict.pt -O {model_dir}'/model_dict.pt'"
      ],
      "metadata": {
        "id": "JU5OIZAQgFap"
      },
      "execution_count": null,
      "outputs": []
    },
    {
      "cell_type": "code",
      "source": [
        "#@title Resnet Model >>> segmentation model selection Box { vertical-output: true, display-mode: \"form\" }\n",
        "model_selection = \"res50.pth\" #@param [\"res50.pth\", \"res101.pth\"] {allow-input: true}\n",
        "yolov5_model_path = 'LeRes/'+str(model_selection)\n",
        "!wget https://github.com/1kaiser/Gradient-based-depth-map-fusion/releases/download/v0.1/{model_selection} -O {yolov5_model_path}\n"
      ],
      "metadata": {
        "id": "xf8fofQyq9Sl"
      },
      "execution_count": null,
      "outputs": []
    },
    {
      "cell_type": "markdown",
      "source": [
        "**running the python Script 📜 on input files in a folder**"
      ],
      "metadata": {
        "id": "YwY4TxQNMofv"
      }
    },
    {
      "cell_type": "code",
      "source": [
        "!python run.py \\\n",
        "-p LeRes50 \\\n",
        "-i '/content/Gradient-based-depth-map-fusion/input' \\\n",
        "-o '/content/nbv' \\\n",
        "-m '/content/Gradient-based-depth-map-fusion/models/model_dict.pt'"
      ],
      "metadata": {
        "id": "29Y5Syf9sBjH"
      },
      "execution_count": null,
      "outputs": []
    }
  ]
}